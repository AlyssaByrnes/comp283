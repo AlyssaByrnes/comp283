{
 "cells": [
  {
   "cell_type": "code",
   "execution_count": 1,
   "metadata": {},
   "outputs": [
    {
     "name": "stdout",
     "output_type": "stream",
     "text": [
      "../docs/lessons/Pseudocode.html\n",
      "Page made: /calendar/latex-and-pseudocode.md\n"
     ]
    }
   ],
   "source": [
    "from helpers import lesson_page, make_slides\n",
    "from constants import GRADESCOPE\n",
    "\n",
    "day1_title = \"LaTeX and Pseudocode\"\n",
    "\n",
    "intro = {\"Video\": \"https://youtu.be/KPnGD-Z-2Eg\", \"Slides\": \"/comp283/static/slides/0-Intro.pdf\"}\n",
    "intro_dict = {\"title\": \"Welcome!\", \"links\": intro}\n",
    "\n",
    "\n",
    "latex = {\"Assignment\": GRADESCOPE, \"*(No Video for this lesson)*\": \"\"}\n",
    "latex_dict = {\"title\": \"LaTeX\", \"links\": latex}\n",
    "\n",
    "pc = {\"Video\" : \"https://youtu.be/Pbi7gRJn06w\", \"Slides\": make_slides(\"Pseudocode.md\", False), \"Assignment\":GRADESCOPE}\n",
    "pc_dict = {\"title\": \"Pseudocode\", \"links\": pc}\n",
    "\n",
    "lesson_page(day1_title, [intro_dict, latex_dict, pc_dict])"
   ]
  },
  {
   "cell_type": "code",
   "execution_count": 2,
   "metadata": {},
   "outputs": [
    {
     "name": "stdout",
     "output_type": "stream",
     "text": [
      "../docs/lessons/PropLogic.html\n",
      "Page made: /calendar/propositional-logic.md\n"
     ]
    }
   ],
   "source": [
    "## Propositional Logic\n",
    "page_title = \"Propositional Logic\"\n",
    "\n",
    "links = {\"Video\": \"https://youtu.be/Jf7lZ_LQ5FM\", \"Slides\" : make_slides(\"PropLogic.md\", False), \"Assignment\":GRADESCOPE}\n",
    "\n",
    "lesson_page(page_title, [{\"title\": \"Propositional Logic\", \"links\": links}])"
   ]
  },
  {
   "cell_type": "code",
   "execution_count": 3,
   "metadata": {},
   "outputs": [],
   "source": [
    "# ## Practice and Review\n",
    "# page_title = \"Practice and Review 0\"\n",
    "# lesson_page(page_title, [])"
   ]
  },
  {
   "cell_type": "code",
   "execution_count": 4,
   "metadata": {},
   "outputs": [
    {
     "name": "stdout",
     "output_type": "stream",
     "text": [
      "../docs/lessons/SetsAndTuples.html\n",
      "Page made: /calendar/sets-tuples-and-counting.md\n"
     ]
    }
   ],
   "source": [
    "## Sets, Tuples, and Counting\n",
    "page_title = \"Sets, Tuples, and Counting\"\n",
    "slides = make_slides(\"SetsAndTuples.md\", False)\n",
    "links = {\"Video\": \"https://youtu.be/89Z-Yzxisag\", \"Slides\" : slides, \"Assignment\":GRADESCOPE}\n",
    "\n",
    "lesson_page(page_title, [{\"title\": page_title, \"links\": links}])"
   ]
  },
  {
   "cell_type": "code",
   "execution_count": 5,
   "metadata": {},
   "outputs": [
    {
     "name": "stdout",
     "output_type": "stream",
     "text": [
      "[\"---\\ntitle: Quantifiers (Predicate Logic)\\ntheme: dracula\\ncenter: false\\ntransition: 'none'\\n---\\n\\n\\n\\n\", '## Predicate Definition\\n<div id=\"content\">\\n\\n A **predicate** is a\\nfunction that maps each possible input to either $\\\\texttt{True}$ or $\\\\texttt{False}$. \\n \\n### Example \\n\\n>Here are two predicates each taking their input $x$ from a set of days, $D$:\\n\\n>$p(x) =$ \"It rained in the morning on day $x$,\" and\\n\\n>$q(x) =$ \"I walked to campus on day $x$.\"\\n\\n>We can combine these to write the statement \"If it did not rain in the morning\\non day $x$, then I walked to campus on day $x$\" as $\\\\neg p(x) \\\\implies q(x)$ \\\\footnote{{In the textbook, $\\\\implies$ is written as $\\\\rightarrow$ and $\\\\neg x$ is written as $\\\\bar{x}$.}} \\n\\n\\n</div>\\n\\n\\n\\n', '## Motivation\\n<div id=\"content\">\\n We are going to introduce the next concept with an example...\\n\\n### Example \\n\\n>Let\\'s say that my previous statement only applies on Mondays, Wednesdays, and Fridays. \\n\\n>How can we say this using what we already learned?\\n\\n>$(\\\\neg p($Mon$) \\\\implies q($Mon$)) \\\\land (\\\\neg p($Wed$) \\\\implies q($Wed$)) \\\\land (\\\\neg p($Fri$) \\\\implies q($Fri$))$\\n\\n>We can also express this using set notation.\\n>Say $D= \\\\{$Mon, Wed, Fri$\\\\}$.\\n\\n>Similar to how you use a summation $\\\\sum$ for a sequence of additions, we can use the big and $\\\\bigwedge$ to represent a sequence of ands.\\n\\n>$\\\\bigwedge\\\\limits_{d \\\\in D} (\\\\neg p(d) \\\\implies q(d))$\\n\\n\\n</div>\\n\\n\\n\\n', '## Motivation Continued - Universal Quantifier\\n<div id=\"content\">\\n\\nWe can also write this using a **quantifier**.\\n\\nThe \"for all\" quantifier, denoted $\\\\forall$, is used to reason about all elements of a set.\\n \\n### Example Continued\\n\\nWe already showed that for $D= \\\\{$Mon, Wed, Fri$\\\\}$,\\n\\n$(\\\\neg p(\\\\textrm{Mon}) \\\\implies q(\\\\textrm{Mon})) \\\\land (\\\\neg p(\\\\textrm{Wed}) \\\\implies q(\\\\textrm{Wed})) \\\\land (\\\\neg p(\\\\textrm{Fri}) \\\\implies q(\\\\textrm{Fri}))$\\n\\n$\\\\equiv \\\\bigwedge\\\\limits_{d \\\\in D} (\\\\neg p(d) \\\\implies q(d))$\\n\\n\\n There is another way we can say this.\\n\\n$\\\\forall d \\\\in D, (\\\\neg p(d) \\\\implies q(d))$.\\n\\n\\n</div>\\n\\n\\n\\n', '## Existential Quantifier\\n<div id=\"content\">\\n\\nWe can do something similar with \"or\" statements. For this we will introduce another quantifier.\\n\\nThe \"there exists\" quantifier, denoted $\\\\exists$, is used to reason about at least one element of a set.\\n \\n### Example \\n\\n>Now let\\'s say that for at least one day of Monday, Wednesday and Friday, if it\\'s not raining on day $d$, then I walk to campus on day $d$.\\n\\n>This can be written using logical or, big or, or with the \"there exists\" quantifier.\\n\\n>$(\\\\neg p(\\\\textrm{Mon}) \\\\implies q(\\\\textrm{Mon})) \\\\lor (\\\\neg p(\\\\textrm{Wed}) \\\\implies q(\\\\textrm{Wed})) \\\\lor (\\\\neg p(\\\\textrm{Fri}) \\\\implies q(\\\\textrm{Fri}))$\\n\\n>$\\\\equiv \\\\bigvee\\\\limits_{d \\\\in D} (\\\\neg p(d) \\\\implies q(d))$\\n\\n>$\\\\equiv \\\\exists d \\\\in D, (\\\\neg p(d) \\\\implies q(d))$\\n\\n\\n</div>\\n\\n\\n\\n', '## Free and Bounded Variables\\n<div id=\"content\">\\n\\n A variable specified with a specified domain is a **bounded variable**. \\n \\n A variable without a specified domain is a **free variable**.\\n \\n### Example \\n\\n>In the preposition $\\\\forall x \\\\in \\\\mathbb{Z}, f(x,y)$,\\n\\n>$x$ is a bounded variable and $y$ is a free variable.\\n \\n### Example \\n\\n>For\\n$\\\\sum\\\\limits_{k=0}^{10} (k+n)$,\\n\\n>$k$ is a bounded variable and $n$ is a free variable.\\n\\n\\n\\n</div>\\n\\n\\n\\n', '## Negation and Inference\\n<div id=\"content\">\\n\\nSince ‘for all’ is a big ‘and,’ and ‘exists’ is a big ‘or,’ de Morgan’s laws say that the\\nnegation of one is the other (with its statement negated.) That is:\\n\\n$\\\\neg(\\\\forall x, p(x)) \\\\equiv \\\\exists x, \\\\neg p(x)$ and\\n\\n$\\\\neg(\\\\exists x, p(x)) \\\\equiv \\\\forall x, \\\\neg p(x)$\\n\\n\\n Why are these true?\\n\\n### Example \\n\\n>$\\\\neg(\\\\forall x, p(x))$ in English translates to \"$p(x)$ does not hold for all $x$\".\\n\\n>This is equivalent to saying, \"There exists an $x$ where $p(x)$ does not hold\", or $\\\\exists x, \\\\neg p(x)$.\\n\\n>Similarly, \\n$\\\\neg(\\\\exists x, p(x))$ in English translates to \"There does not exist $x$ such that $p(x)$ holds. \\n\\n>This is equivalent to saying \"For all $x$, $p(x)$ does not hold\", or $\\\\forall x, \\\\neg p(x)$.\\n\\n\\n\\n</div>\\n\\n\\n\\n']\n",
      "../docs/lessons/Quantifiers.html\n",
      "['---\\ntitle: QuantifiersCode\\ntheme: dracula\\ncenter: false\\ntransition: \\'none\\'\\ncontributors: Alyssa Byrnes\\n---\\n\\n\\n<div id=\"content\">\\n</div>\\n\\n\\n', '## What We\\'ve Learned: Bringing It Back to Coding\\n<div id=\"content\">\\n\\n\\n</div>\\n\\n\\n', '## Python\\n<div id=\"content\">\\n\\n### What is Python?\\n\\nPython is one of the most popular coding languages.\\n\\n\\n</div>\\n\\n\\n', '## Methods\\n<div id=\"content\">\\n\\n### What is a method?\\n\\nSomething that recieves and input, does something to it, and gives an output.\\n\\n>A function is a type of method!\\n\\n### Example\\n\\n>$f(x) = x + 2$ is a function\\n\\nIn python it looks like:\\n\\n    def f(x):\\n        return x + 2\\n        \\nA method defines an algorithm.\\n\\n\"return\" exits the program and outputs $x+2$\\n\\n\\n</div>\\n\\n\\n', '## Common Objects in Python\\n<div id=\"content\">\\n- Integer: A Integer\\n- List: An ordered list of objects\\n    - $[1,2,3]$, $[\\\\textrm{``apples\\'\\'}, 1, \\\\texttt{True}]$\\n    - This is a type of *tuple*!\\n- Boolean: Something that is either $\\\\texttt{True}$ or $\\\\texttt{False}$\\n    - A *proposition* is a boolean.\\n    - A *preposition* given an input is a boolean.\\n    \\n\\n</div>\\n\\n\\n', '## Pseudocode\\n<div id=\"content\">\\n\\nWe sometimes use **pseudocode** to practice writing out methods/algorithms.\\n\\nPseudocode is something that looks like code, but wouldn\\'t actually run in any language. It\\'s a good way to write out algorithms without having to worry about syntax.\\n\\n### Example\\n\\n    f:\\n        input: integer x\\n        \\n        #We can add comments this way. A comment doesn\\'t execute. It\\'s for you to read when you look at your code.\\n        \\n        return x + 2\\n    \\n\\n</div>\\n\\n\\n', '## Conditionals\\n<div id=\"content\">\\n\\nA **conditional** checks some condition (expressed as a boolean) and uses it to decide what the program should do.\\n\\n### Example\\n\\n    example:\\n        input: boolean x\\n        \\n        if x: #Checks if x == True\\n            y = x + 1\\n        else:\\n            y = x + 2\\n        return y\\n        \\n### Example 2\\n\\n    example:\\n        input: boolean x\\n    \\n        if !x: #Checks if x == False\\n            y = x + 2\\n        else:\\n            y = x + 1\\n        return y\\n\\n\\n</div>\\n\\n\\n', '## Loops\\n<div id=\"content\">\\n\\nA **loop** lets you look at every element in a list and do something each time.\\n\\n### Example - For Loop\\n\\n    example:\\n        for x in [1,2,3,4]:\\n            print x + 5\\n\\n>Prints out $6,7,8,9$\\n\\n### Example - While Loop\\n\\n    example:\\n        x = 1\\n        while x < 5:\\n            print x + 5\\n            x = x + 1\\n\\n>Also prints out $6,7,8,9$\\n\\n\\n</div>\\n\\n\\n', '## Coding Existentials\\n<div id=\"content\">\\n\\n### We are going to practice writing pseudocode for our existentials\\n\\n\\n</div>\\n\\n\\n', '## Exists\\n<div id=\"content\">\\n\\nLet\\'s say we have a list of booleans: $P = [p1,p2,p3,p4]$.\\n\\nWe want to check $\\\\exists p \\\\in P, p$.\\n\\nWe want a method that returns $\\\\texttt{True}$ if at least one element in $P$ is $\\\\texttt{True}$ and returns $\\\\texttt{False}$ otherwise.\\n\\n\\n\\n</div>\\n\\n\\n', '## Exists\\n<div id=\"content\">\\n\\nLet\\'s say we have a list of booleans: $P = [p1,p2,p3,p4]$.\\n\\nWe want to check $\\\\exists p \\\\in P, p$.\\n\\nWe want a method that returns $\\\\texttt{True}$ if at least one element in $P$ is $\\\\texttt{True}$ and returns $\\\\texttt{False}$ otherwise.\\n\\n    example:\\n        input: list P\\n        for x in P:\\n            if x:\\n                return True\\n        #Loop exited\\n        return False\\n\\n\\n</div>\\n\\n\\n']\n",
      "../docs/lessons/QuantifiersCode.html\n",
      "Page made: /calendar/quantifiers.md\n"
     ]
    }
   ],
   "source": [
    "## Quantifiers\n",
    "page_title = \"Quantifiers\"\n",
    "\n",
    "slides = make_slides(\"Quantifiers.md\")\n",
    "q_links = {\"Video\": \"\", \"Slides\" : \"\", \"Assignment\":GRADESCOPE}\n",
    "slides0 = make_slides(\"QuantifiersCode.md\")\n",
    "coding_links = {\"Video\" : \"\", \"Slides\": \"\"}\n",
    "\n",
    "lesson_page(page_title, [{\"title\": page_title, \"links\": q_links}, \n",
    "                         {\"title\": \"Intro to Coding (Optional Review)\", \"links\": coding_links}])"
   ]
  },
  {
   "cell_type": "code",
   "execution_count": 6,
   "metadata": {},
   "outputs": [
    {
     "name": "stdout",
     "output_type": "stream",
     "text": [
      "Page made: /calendar/set-operations.md\n"
     ]
    }
   ],
   "source": [
    "## Set Operations\n",
    "page_title = \"Set Operations\"\n",
    "lesson_page(page_title, [])"
   ]
  },
  {
   "cell_type": "code",
   "execution_count": 7,
   "metadata": {},
   "outputs": [
    {
     "name": "stdout",
     "output_type": "stream",
     "text": [
      "Page made: /calendar/practice-and-review-1.md\n"
     ]
    }
   ],
   "source": [
    "## Practice and Review\n",
    "page_title = \"Practice and Review 1\"\n",
    "lesson_page(page_title, [])"
   ]
  },
  {
   "cell_type": "code",
   "execution_count": 8,
   "metadata": {},
   "outputs": [
    {
     "name": "stdout",
     "output_type": "stream",
     "text": [
      "Page made: /calendar/relations.md\n"
     ]
    }
   ],
   "source": [
    "## Relations\n",
    "page_title = \"Relations\"\n",
    "lesson_page(page_title, [])"
   ]
  },
  {
   "cell_type": "code",
   "execution_count": 9,
   "metadata": {},
   "outputs": [
    {
     "name": "stdout",
     "output_type": "stream",
     "text": [
      "Page made: /calendar/functions.md\n"
     ]
    }
   ],
   "source": [
    "## Functions\n",
    "page_title = \"Functions\"\n",
    "lesson_page(page_title, [])"
   ]
  },
  {
   "cell_type": "code",
   "execution_count": 10,
   "metadata": {},
   "outputs": [
    {
     "name": "stdout",
     "output_type": "stream",
     "text": [
      "Page made: /calendar/practice-and-review-2.md\n"
     ]
    }
   ],
   "source": [
    "## Practice and Review\n",
    "page_title = \"Practice and Review 2\"\n",
    "lesson_page(page_title, [])"
   ]
  },
  {
   "cell_type": "code",
   "execution_count": 11,
   "metadata": {},
   "outputs": [
    {
     "name": "stdout",
     "output_type": "stream",
     "text": [
      "Page made: /calendar/number-theory.md\n"
     ]
    }
   ],
   "source": [
    "## Number Theory\n",
    "page_title = \"Number Theory\"\n",
    "lesson_page(page_title, [])"
   ]
  },
  {
   "cell_type": "code",
   "execution_count": 12,
   "metadata": {},
   "outputs": [
    {
     "name": "stdout",
     "output_type": "stream",
     "text": [
      "Page made: /calendar/proofs.md\n"
     ]
    }
   ],
   "source": [
    "## Proofs\n",
    "page_title = \"Proofs\"\n",
    "lesson_page(page_title, [])"
   ]
  },
  {
   "cell_type": "code",
   "execution_count": 13,
   "metadata": {},
   "outputs": [
    {
     "name": "stdout",
     "output_type": "stream",
     "text": [
      "Page made: /calendar/proofs-continued.md\n"
     ]
    }
   ],
   "source": [
    "## Proofs Continued\n",
    "page_title = \"Proofs Continued\"\n",
    "lesson_page(page_title, [])"
   ]
  },
  {
   "cell_type": "code",
   "execution_count": 14,
   "metadata": {},
   "outputs": [
    {
     "name": "stdout",
     "output_type": "stream",
     "text": [
      "Page made: /calendar/practice-and-review-3.md\n"
     ]
    }
   ],
   "source": [
    "## Practice and Review\n",
    "page_title = \"Practice and Review 3\"\n",
    "lesson_page(page_title, [])"
   ]
  },
  {
   "cell_type": "code",
   "execution_count": 15,
   "metadata": {},
   "outputs": [
    {
     "name": "stdout",
     "output_type": "stream",
     "text": [
      "Page made: /calendar/recursion.md\n"
     ]
    }
   ],
   "source": [
    "## Recursion\n",
    "page_title = \"Recursion\"\n",
    "lesson_page(page_title, [])"
   ]
  },
  {
   "cell_type": "code",
   "execution_count": 16,
   "metadata": {},
   "outputs": [
    {
     "name": "stdout",
     "output_type": "stream",
     "text": [
      "Page made: /calendar/induction.md\n"
     ]
    }
   ],
   "source": [
    "## Induction\n",
    "page_title = \"Induction\"\n",
    "lesson_page(page_title, [])"
   ]
  },
  {
   "cell_type": "code",
   "execution_count": 17,
   "metadata": {},
   "outputs": [
    {
     "name": "stdout",
     "output_type": "stream",
     "text": [
      "Page made: /calendar/analyzing-algorithms-and-invariants.md\n"
     ]
    }
   ],
   "source": [
    "## Analyzing Algorithms and Invariants\n",
    "page_title = \"Analyzing Algorithms and Invariants\"\n",
    "lesson_page(page_title, [])"
   ]
  },
  {
   "cell_type": "code",
   "execution_count": 18,
   "metadata": {},
   "outputs": [
    {
     "name": "stdout",
     "output_type": "stream",
     "text": [
      "Page made: /calendar/proving-invariants.md\n"
     ]
    }
   ],
   "source": [
    "## Proving Invariants\n",
    "page_title = \"Proving Invariants\"\n",
    "lesson_page(page_title, [])"
   ]
  },
  {
   "cell_type": "code",
   "execution_count": 19,
   "metadata": {},
   "outputs": [
    {
     "name": "stdout",
     "output_type": "stream",
     "text": [
      "Page made: /calendar/practice-and-review-4.md\n"
     ]
    }
   ],
   "source": [
    "## Practice and Review\n",
    "page_title = \"Practice and Review 4\"\n",
    "lesson_page(page_title, [])"
   ]
  },
  {
   "cell_type": "code",
   "execution_count": 20,
   "metadata": {},
   "outputs": [
    {
     "name": "stdout",
     "output_type": "stream",
     "text": [
      "Page made: /calendar/practice-and-review-5.md\n"
     ]
    }
   ],
   "source": [
    "## Practice and Review\n",
    "page_title = \"Practice and Review 5\"\n",
    "lesson_page(page_title, [])"
   ]
  }
 ],
 "metadata": {
  "kernelspec": {
   "display_name": "Python 3",
   "language": "python",
   "name": "python3"
  },
  "language_info": {
   "codemirror_mode": {
    "name": "ipython",
    "version": 3
   },
   "file_extension": ".py",
   "mimetype": "text/x-python",
   "name": "python",
   "nbconvert_exporter": "python",
   "pygments_lexer": "ipython3",
   "version": "3.11.2"
  },
  "orig_nbformat": 4
 },
 "nbformat": 4,
 "nbformat_minor": 2
}
