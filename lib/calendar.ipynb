{
 "cells": [
  {
   "cell_type": "code",
   "execution_count": 1643,
   "metadata": {},
   "outputs": [
    {
     "name": "stdout",
     "output_type": "stream",
     "text": [
      "../docs/lessons/Pseudocode.html\n",
      "Page made: /calendar/latex-and-pseudocode.md\n"
     ]
    }
   ],
   "source": [
    "from helpers import lesson_page, make_slides\n",
    "from constants import GRADESCOPE\n",
    "\n",
    "day1_title = \"LaTeX and Pseudocode\"\n",
    "\n",
    "intro = {\"Video\": \"https://youtu.be/KPnGD-Z-2Eg\", \"Slides\": \"/comp283/static/slides/0-Intro.pdf\"}\n",
    "intro_dict = {\"title\": \"Welcome!\", \"links\": intro}\n",
    "\n",
    "\n",
    "latex = {\"Assignment\": GRADESCOPE, \"*(No Video for this lesson)*\": \"\"}\n",
    "latex_dict = {\"title\": \"LaTeX\", \"links\": latex}\n",
    "\n",
    "pc = {\"Video\" : \"https://youtu.be/Pbi7gRJn06w\", \"Slides\": make_slides(\"Pseudocode.md\", False), \"Assignment\":GRADESCOPE}\n",
    "pc_dict = {\"title\": \"Pseudocode\", \"links\": pc}\n",
    "\n",
    "lesson_page(day1_title, [intro_dict, latex_dict, pc_dict])"
   ]
  },
  {
   "cell_type": "code",
   "execution_count": 1644,
   "metadata": {},
   "outputs": [
    {
     "name": "stdout",
     "output_type": "stream",
     "text": [
      "../docs/lessons/PropLogic.html\n",
      "Page made: /calendar/propositional-logic.md\n"
     ]
    }
   ],
   "source": [
    "## Propositional Logic\n",
    "page_title = \"Propositional Logic\"\n",
    "\n",
    "links = {\"Video\": \"https://youtu.be/Jf7lZ_LQ5FM\", \"Slides\" : make_slides(\"PropLogic.md\", False), \"Assignment\":GRADESCOPE}\n",
    "\n",
    "lesson_page(page_title, [{\"title\": \"Propositional Logic\", \"links\": links}])"
   ]
  },
  {
   "cell_type": "code",
   "execution_count": 1645,
   "metadata": {},
   "outputs": [],
   "source": [
    "# ## Practice and Review\n",
    "# page_title = \"Practice and Review 0\"\n",
    "# lesson_page(page_title, [])"
   ]
  },
  {
   "cell_type": "code",
   "execution_count": 1646,
   "metadata": {},
   "outputs": [
    {
     "name": "stdout",
     "output_type": "stream",
     "text": [
      "../docs/lessons/SetsAndTuples.html\n",
      "Page made: /calendar/sets-tuples-and-counting.md\n"
     ]
    }
   ],
   "source": [
    "## Sets, Tuples, and Counting\n",
    "page_title = \"Sets, Tuples, and Counting\"\n",
    "slides = make_slides(\"SetsAndTuples.md\", False)\n",
    "links = {\"Video\": \"https://youtu.be/89Z-Yzxisag\", \"Slides\" : slides, \"Assignment\":GRADESCOPE}\n",
    "\n",
    "lesson_page(page_title, [{\"title\": page_title, \"links\": links}])"
   ]
  },
  {
   "cell_type": "code",
   "execution_count": 1647,
   "metadata": {},
   "outputs": [
    {
     "name": "stdout",
     "output_type": "stream",
     "text": [
      "../docs/lessons/Quantifiers.html\n",
      "../docs/lessons/QuantifiersCode.html\n",
      "Page made: /calendar/quantifiers.md\n"
     ]
    }
   ],
   "source": [
    "## Quantifiers\n",
    "page_title = \"Quantifiers\"\n",
    "\n",
    "slides = make_slides(\"Quantifiers.md\", False)\n",
    "q_links = {\"Video\": \"https://youtu.be/RvTMf4l3mPo\", \"Slides\" : slides, \"Assignment\":GRADESCOPE}\n",
    "slides0 = make_slides(\"QuantifiersCode.md\", False)\n",
    "coding_links = {\"Slides\": slides0, \"*(Optional Review of Coding)*\": \"\"}\n",
    "\n",
    "lesson_page(page_title, [{\"title\": page_title, \"links\": q_links}, \n",
    "                         {\"title\": \"Intro to Coding\", \"links\": coding_links}])"
   ]
  },
  {
   "cell_type": "code",
   "execution_count": 1648,
   "metadata": {},
   "outputs": [
    {
     "name": "stdout",
     "output_type": "stream",
     "text": [
      "../docs/lessons/SetOperations.html\n",
      "Page made: /calendar/set-operations.md\n"
     ]
    }
   ],
   "source": [
    "## Set Operations\n",
    "page_title = \"Set Operations\"\n",
    "slides = make_slides(\"SetOperations.md\", False)\n",
    "q_links = {\"Video\": \"https://youtu.be/fo_P22I71Zc\", \"Slides\" : slides, \"Assignment\":GRADESCOPE}\n",
    "lesson_page(page_title, [{\"title\": page_title, \"links\": q_links}])"
   ]
  },
  {
   "cell_type": "code",
   "execution_count": 1649,
   "metadata": {},
   "outputs": [],
   "source": [
    "# ## Practice and Review\n",
    "# page_title = \"Practice and Review 1\"\n",
    "# lesson_page(page_title, [])"
   ]
  },
  {
   "cell_type": "code",
   "execution_count": 1650,
   "metadata": {},
   "outputs": [
    {
     "name": "stdout",
     "output_type": "stream",
     "text": [
      "../docs/lessons/Relations.html\n",
      "Page made: /calendar/relations.md\n"
     ]
    }
   ],
   "source": [
    "## Relations\n",
    "page_title = \"Relations\"\n",
    "slides = make_slides(\"Relations.md\", False)\n",
    "q_links = {\"Video\": \"https://youtu.be/ggpdmbRWklY\", \"Slides\" : slides, \"Assignment\":GRADESCOPE}\n",
    "lesson_page(page_title, [{\"title\": page_title, \"links\": q_links}])"
   ]
  },
  {
   "cell_type": "code",
   "execution_count": 1651,
   "metadata": {},
   "outputs": [
    {
     "name": "stdout",
     "output_type": "stream",
     "text": [
      "../docs/lessons/Functions.html\n",
      "../docs/lessons/CommonFunctions.html\n",
      "Page made: /calendar/functions.md\n"
     ]
    }
   ],
   "source": [
    "## Functions\n",
    "page_title = \"Functions\"\n",
    "slides = make_slides(\"Functions.md\", False)\n",
    "common_slides = make_slides(\"CommonFunctions.md\", False)\n",
    "q_links = {\"Video\": \"https://youtu.be/TQTOa7Eq0aY\", \"Slides\" : slides, \"Assignment\":GRADESCOPE}\n",
    "q_links_common = {\"Slides\" : common_slides, \"*(No video or assignment, but go through these slides!*)\": \"\"}\n",
    "lesson_page(page_title, [{\"title\": page_title, \"links\": q_links},\n",
    "                         {\"title\": \"Common Functions\", \"links\": q_links_common}])"
   ]
  },
  {
   "cell_type": "code",
   "execution_count": 1652,
   "metadata": {},
   "outputs": [],
   "source": [
    "# ## Practice and Review\n",
    "# page_title = \"Practice and Review 2\"\n",
    "# lesson_page(page_title, [])"
   ]
  },
  {
   "cell_type": "code",
   "execution_count": 1653,
   "metadata": {},
   "outputs": [
    {
     "name": "stdout",
     "output_type": "stream",
     "text": [
      "../docs/lessons/NumberTheory.html\n",
      "Page made: /calendar/number-theory.md\n"
     ]
    }
   ],
   "source": [
    "## Number Theory\n",
    "page_title = \"Number Theory\"\n",
    "slides = make_slides(\"NumberTheory.md\", False)\n",
    "q_links = {\"Video\": \"https://youtu.be/SF3czh8BFmk\", \"Slides\" : slides, \"Assignment\":GRADESCOPE, \"Extra Video\": \"https://youtu.be/Xpk67YzOn5w\"}\n",
    "p_links = {\"Video\": \"https://youtu.be/Mc6DQ6CB0TA\", \"Slides\": \"/comp283/static/slides/RSA-primes.pdf\"}\n",
    "lesson_page(page_title, [{\"title\": page_title, \"links\": q_links},\n",
    "                         {\"title\": \"RSA + Prime Numbers\", \"links\": p_links }])"
   ]
  },
  {
   "cell_type": "code",
   "execution_count": 1654,
   "metadata": {},
   "outputs": [
    {
     "name": "stdout",
     "output_type": "stream",
     "text": [
      "../docs/lessons/Proofs.html\n",
      "Page made: /calendar/proofs.md\n"
     ]
    }
   ],
   "source": [
    "## Proofs\n",
    "page_title = \"Proofs\"\n",
    "slides = make_slides(\"Proofs.md\", False)\n",
    "q_links = {\"Video\": \"https://youtu.be/8JT9aPLxpPk\", \"Slides\" : slides, \"Assignment\":GRADESCOPE}\n",
    "lesson_page(page_title, [{\"title\": page_title, \"links\": q_links}])"
   ]
  },
  {
   "cell_type": "code",
   "execution_count": 1655,
   "metadata": {},
   "outputs": [
    {
     "name": "stdout",
     "output_type": "stream",
     "text": [
      "../docs/lessons/ProofsCont.html\n",
      "Page made: /calendar/proofs-continued.md\n"
     ]
    }
   ],
   "source": [
    "## Proofs Continued\n",
    "page_title = \"Proofs Continued\"\n",
    "slides = make_slides(\"ProofsCont.md\", False)\n",
    "q_links = {\"Video\": \"https://youtu.be/vUmOQp2vlJw\", \"Slides\" : slides, \"Assignment\":GRADESCOPE}\n",
    "lesson_page(page_title, [{\"title\": page_title, \"links\": q_links}])"
   ]
  },
  {
   "cell_type": "code",
   "execution_count": 1656,
   "metadata": {},
   "outputs": [],
   "source": [
    "# ## Practice and Review\n",
    "# page_title = \"Practice and Review 3\"\n",
    "# lesson_page(page_title, [])"
   ]
  },
  {
   "cell_type": "code",
   "execution_count": 1657,
   "metadata": {},
   "outputs": [
    {
     "name": "stdout",
     "output_type": "stream",
     "text": [
      "['', \"## Recursion\\n\\nThere is still one type of proof we need to cover... but first we're going to take a little bit of a detour.\\n\\nIt is helpful to understand recursion before we move on to the next kind of proof.\\n\\n\", \"## What is recursion?\\n\\n**Recursion** is the idea of solving a problem by breaking it into smaller problems.\\n\\n### Example - Powersets: \\n\\n- Recall when we defined powersets this way:\\n\\n- $\\\\mathscr{P}(X + \\\\{c\\\\} ) = \\\\mathscr{P}(X) \\\\cup (\\\\mathscr{P}(X) + \\\\{c\\\\})$\\n\\n- E.g. $\\\\mathscr{P}(\\\\{1,2,3\\\\}) = \\\\mathscr{P}(\\\\{1,2\\\\} + \\\\{3\\\\}) = \\\\mathscr{P}(\\\\{1,2\\\\}) \\\\cup (\\\\mathscr{P}(\\\\{1,2\\\\}) + \\\\{3\\\\})$\\n\\n- This is essentially saying we can build a powerset by unioning two smaller sets. We are building something by combining two smaller things. That's what makes this definition recursive.\\n\\n\", '## What is recursion?\\n\\n### Example - Factorials:\\n\\n- Another familiar function we know is $n! = n \\\\cdot (n-1) \\\\cdot \\\\ldots \\\\cdot 2 \\\\cdot 1$\\n\\n- We can rewrite this as $n! = n\\\\cdot (n-1)!$.\\n\\n- This is a recursive definition because we are computing $n!$ by first computing $(n-1)!$.\\n\\n', \"## Why do we use recursion?\\n\\n- Breaking a problem into smaller pieces can make it easier to solve.\\n\\n- Breaking a problem into smaller pieaces can also make it easier to reason about, making it easier to prove properties about it! \\n\\n- Many programming languages heavily rely on recursive definitions (haskell, racket, scheme, etc.)\\n\\n- Other programming languages support it by letting a function call itself. (I'll give an example soon.)\\n\\n\\n\", \"## Defining recursion\\n\\nWe just gave an example of both a set and a function that were defined recursively.\\n\\nYou can also recursively define relations, tuples, lists, sequences...\\n\\nThere are two main parts of a recursive definition:\\n\\n1. The base case: the initial element/value of what you're trying to define\\n\\n2. The recursive rule: tells you how to generate the next element/value given previous ones.\\n\\n### Example: Powersets\\n\\n1. The base case: $\\\\mathscr{P}(\\\\{ \\\\}) = \\\\{\\\\}$\\n2. The recursive rule: $\\\\mathscr{P}(X + \\\\{c\\\\}) = \\\\mathscr{P}(X) \\\\cup (\\\\mathscr{P}(X) + \\\\{c\\\\})$\\n\\n\\n### Example: Factorials\\n\\n1. The base case: $0! = 1$\\n2. The recursive rule: $n! = n \\\\cdot (n-1)!$\\n\\n\\n\", '## Recursion in Coding\\n\\nHere is an example of what recursion would look like in a programming language like Python.\\n\\nSay we want to write a program that returns $n!$.\\n\\n    Def factorial:\\n        input: natural number n\\n        if n == 0: #base case\\n            return 1\\n        else: #recursive rule\\n            return n * factorial(n-1) \\n        \\n\\n', '## The Fibonacci numbers\\n\\n- The Fibonacci numbers are a very famous sequence of numbers that are defined via a recursive function.\\n\\n1. The base case: $F(0) = 0, F(1) = 1$\\n2. Recursive rule: For $n > 1$, $F(n) = F(n-1) + F(n-2)$.\\n\\n', '## Defining Functions and Methods Recursively\\n\\nI want to define a method $copy$ such that for all $n \\\\in \\\\mathbb{N}$, $copy(n)=n$\\n\\nFor this, we are going to use the fact that $n = 1 \\\\cdot n = 1 + 1 + \\\\ldots + 1$, $n$ times.\\n\\n1. The base case: $copy(0) = 0$\\n2. Recursive rule: For $n>0$, $copy(n) = 1 + copy(n-1)$\\n\\n\\n', '## Defining Lists Recursively\\n\\n- We are going to give an example of how we can define a list and some functions on a list recursively\\n\\n- Say all elements of our list are in set $A$\\n\\n- The set of all possible lists $L$ can be defined as $L = \\\\bigcup_{k\\\\geq0}A^k$ \\n(Aka all possible permutations of length $k \\\\geq 0$ of the elements in $A$.)\\n\\n- We can also define this recursively.\\n\\n1. Base case: Empty list $\\\\langle ~ \\\\rangle$\\n\\n2. Recursive rule: For any element $a \\\\in A$ and all lists $l \\\\in L$, $cons(a,l)$ is a list in $L$.\\n\\n- Basically, $cons(a,l)$ takes $a$ and attaches it to list $l$\\n\\n- You can think of \"$cons$\" as short for \"constructor\".\\n\\n\\n\\n\\n', '## Defining Lists Recursively\\n\\n>1. Base case: Empty list $\\\\langle ~ \\\\rangle$\\n\\n>2. Recursive rule: For any element $a \\\\in A$ and all lists $l \\\\in L$, $cons(a,l)$ is a list in $L$.\\n\\n>- Basically, $cons(a,l)$ takes $a$ and attaches it to list $l$\\n\\n\\n### Examples\\n\\n- $\\\\langle b \\\\rangle = cons(b, \\\\langle ~ \\\\rangle)$\\n\\n- $\\\\langle a, b \\\\rangle = cons(a, cons(b, \\\\langle ~ \\\\rangle))$\\n\\n- $\\\\langle a, b, c \\\\rangle = cons(a, cons(b, cons(c, \\\\langle ~ \\\\rangle)))$\\n\\n', '## Useful Partial Functions\\n\\n- $head(cons( a,l )) = a$\\n\\n- $tail(cons( a,l )) = l$\\n\\n- Note that $head$ returns an element and $tail$ returns a list!\\n\\n### Examples\\n\\n- $\\\\langle a, b, c \\\\rangle = cons(a, cons(b, cons(c, \\\\langle ~ \\\\rangle)))$\\n\\n- $head(cons(a, cons(b, cons(c, \\\\langle ~ \\\\rangle)))) = a$\\n\\n- $tail(cons(a, cons(b, cons(c, \\\\langle ~ \\\\rangle)))) = cons(b, cons(c, \\\\langle ~ \\\\rangle)) = \\\\langle b, c \\\\rangle$\\n\\n\\n\\n', \"## Strings and Languages\\n\\n- Strings and Languages are likely going to come up later in your computer science education, so it's good to be familiar with these definitions!\\n- A **string** is a list containing characters from a given **alphabet** $\\\\Sigma$\\n- The set of all possible strings that can be made from an alphabet is $\\\\Sigma^*$\\n- A **language** is a set of strings $L \\\\subseteq \\\\Sigma^*$\\n\"]\n",
      "../docs/lessons/Recursion.html\n",
      "Page made: /calendar/recursion.md\n"
     ]
    }
   ],
   "source": [
    "## Recursion\n",
    "page_title = \"Recursion\"\n",
    "slides = make_slides(\"Recursion.md\", False)\n",
    "q_links = {\"Video\": \"\", \"Slides\" : slides, \"Assignment\":GRADESCOPE}\n",
    "lesson_page(page_title, [{\"title\": page_title, \"links\": q_links}])"
   ]
  },
  {
   "cell_type": "code",
   "execution_count": 1658,
   "metadata": {},
   "outputs": [
    {
     "name": "stdout",
     "output_type": "stream",
     "text": [
      "Page made: /calendar/induction.md\n"
     ]
    }
   ],
   "source": [
    "## Induction\n",
    "page_title = \"Induction\"\n",
    "#slides = make_slides(\"\", False)\n",
    "q_links = {\"Video\": \"\", \"Slides\" : slides, \"Assignment\":GRADESCOPE}\n",
    "lesson_page(page_title, [{\"title\": page_title, \"links\": q_links}])"
   ]
  },
  {
   "cell_type": "code",
   "execution_count": 1659,
   "metadata": {},
   "outputs": [
    {
     "name": "stdout",
     "output_type": "stream",
     "text": [
      "Page made: /calendar/analyzing-algorithms-and-invariants.md\n"
     ]
    }
   ],
   "source": [
    "## Analyzing Algorithms and Invariants\n",
    "page_title = \"Analyzing Algorithms and Invariants\"\n",
    "#slides = make_slides(\"\", False)\n",
    "q_links = {\"Video\": \"\", \"Slides\" : slides, \"Assignment\":GRADESCOPE}\n",
    "lesson_page(page_title, [{\"title\": page_title, \"links\": q_links}])"
   ]
  },
  {
   "cell_type": "code",
   "execution_count": 1660,
   "metadata": {},
   "outputs": [
    {
     "name": "stdout",
     "output_type": "stream",
     "text": [
      "Page made: /calendar/proving-invariants.md\n"
     ]
    }
   ],
   "source": [
    "## Proving Invariants\n",
    "page_title = \"Proving Invariants\"\n",
    "#slides = make_slides(\"\", False)\n",
    "q_links = {\"Video\": \"\", \"Slides\" : slides, \"Assignment\":GRADESCOPE}\n",
    "lesson_page(page_title, [{\"title\": page_title, \"links\": q_links}])"
   ]
  },
  {
   "cell_type": "code",
   "execution_count": 1661,
   "metadata": {},
   "outputs": [
    {
     "name": "stdout",
     "output_type": "stream",
     "text": [
      "Page made: /calendar/practice-and-review-4.md\n"
     ]
    }
   ],
   "source": [
    "## Practice and Review\n",
    "page_title = \"Practice and Review 4\"\n",
    "lesson_page(page_title, [])"
   ]
  },
  {
   "cell_type": "code",
   "execution_count": 1662,
   "metadata": {},
   "outputs": [
    {
     "name": "stdout",
     "output_type": "stream",
     "text": [
      "Page made: /calendar/practice-and-review-5.md\n"
     ]
    }
   ],
   "source": [
    "## Practice and Review\n",
    "page_title = \"Practice and Review 5\"\n",
    "lesson_page(page_title, [])"
   ]
  }
 ],
 "metadata": {
  "kernelspec": {
   "display_name": "Python 3",
   "language": "python",
   "name": "python3"
  },
  "language_info": {
   "codemirror_mode": {
    "name": "ipython",
    "version": 3
   },
   "file_extension": ".py",
   "mimetype": "text/x-python",
   "name": "python",
   "nbconvert_exporter": "python",
   "pygments_lexer": "ipython3",
   "version": "3.11.2"
  },
  "orig_nbformat": 4
 },
 "nbformat": 4,
 "nbformat_minor": 2
}
