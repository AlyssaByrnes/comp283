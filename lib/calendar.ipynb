{
 "cells": [
  {
   "cell_type": "code",
   "execution_count": 21,
   "metadata": {},
   "outputs": [
    {
     "name": "stdout",
     "output_type": "stream",
     "text": [
      "../docs/lessons/Pseudocode.html\n",
      "Page made: /calendar/latex-and-pseudocode.md\n"
     ]
    }
   ],
   "source": [
    "from helpers import lesson_page, make_slides\n",
    "from constants import GRADESCOPE\n",
    "\n",
    "day1_title = \"LaTeX and Pseudocode\"\n",
    "\n",
    "intro = {\"Video\": \"https://youtu.be/KPnGD-Z-2Eg\", \"Slides\": \"/comp283/static/slides/0-Intro.pdf\"}\n",
    "intro_dict = {\"title\": \"Welcome!\", \"links\": intro}\n",
    "\n",
    "\n",
    "latex = {\"Assignment\": GRADESCOPE, \"*(No Video for this lesson)*\": \"\"}\n",
    "latex_dict = {\"title\": \"LaTeX\", \"links\": latex}\n",
    "\n",
    "pc = {\"Video\" : \"https://youtu.be/Pbi7gRJn06w\", \"Slides\": make_slides(\"Pseudocode.md\"), \"Assignment\":GRADESCOPE}\n",
    "pc_dict = {\"title\": \"Pseudocode\", \"links\": pc}\n",
    "\n",
    "lesson_page(day1_title, [intro_dict, latex_dict, pc_dict])"
   ]
  },
  {
   "cell_type": "code",
   "execution_count": 22,
   "metadata": {},
   "outputs": [
    {
     "name": "stdout",
     "output_type": "stream",
     "text": [
      "../docs/lessons/PropLogic.html\n",
      "Page made: /calendar/propositional-logic.md\n"
     ]
    },
    {
     "name": "stderr",
     "output_type": "stream",
     "text": [
      "[WARNING] This document format requires a nonempty <title> element.\n",
      "  Defaulting to 'PropLogic' as the title.\n",
      "  To specify a title, use 'title' in metadata or --metadata title=\"...\".\n"
     ]
    }
   ],
   "source": [
    "## Propositional Logic\n",
    "page_title = \"Propositional Logic\"\n",
    "\n",
    "links = {\"Video *(Coming Soon)*\": \"\", \"Slides\" : make_slides(\"PropLogic.md\"), \"Assignment\":GRADESCOPE}\n",
    "\n",
    "lesson_page(page_title, [{\"title\": \"Propositional Logic\", \"links\": links}])"
   ]
  },
  {
   "cell_type": "code",
   "execution_count": 23,
   "metadata": {},
   "outputs": [],
   "source": [
    "# ## Practice and Review\n",
    "# page_title = \"Practice and Review 0\"\n",
    "# lesson_page(page_title, [])"
   ]
  },
  {
   "cell_type": "code",
   "execution_count": 24,
   "metadata": {},
   "outputs": [
    {
     "name": "stdout",
     "output_type": "stream",
     "text": [
      "Page made: /calendar/sets-tuples-and-counting.md\n"
     ]
    }
   ],
   "source": [
    "## Sets, Tuples, and Counting\n",
    "page_title = \"Sets, Tuples, and Counting\"\n",
    "lesson_page(page_title, [])"
   ]
  },
  {
   "cell_type": "code",
   "execution_count": 25,
   "metadata": {},
   "outputs": [
    {
     "name": "stdout",
     "output_type": "stream",
     "text": [
      "Page made: /calendar/quantifiers.md\n"
     ]
    }
   ],
   "source": [
    "## Quantifiers\n",
    "page_title = \"Quantifiers\"\n",
    "lesson_page(page_title, [])"
   ]
  },
  {
   "cell_type": "code",
   "execution_count": 26,
   "metadata": {},
   "outputs": [
    {
     "name": "stdout",
     "output_type": "stream",
     "text": [
      "Page made: /calendar/set-operations.md\n"
     ]
    }
   ],
   "source": [
    "## Set Operations\n",
    "page_title = \"Set Operations\"\n",
    "lesson_page(page_title, [])"
   ]
  },
  {
   "cell_type": "code",
   "execution_count": 27,
   "metadata": {},
   "outputs": [
    {
     "name": "stdout",
     "output_type": "stream",
     "text": [
      "Page made: /calendar/practice-and-review-1.md\n"
     ]
    }
   ],
   "source": [
    "## Practice and Review\n",
    "page_title = \"Practice and Review 1\"\n",
    "lesson_page(page_title, [])"
   ]
  },
  {
   "cell_type": "code",
   "execution_count": 28,
   "metadata": {},
   "outputs": [
    {
     "name": "stdout",
     "output_type": "stream",
     "text": [
      "Page made: /calendar/relations.md\n"
     ]
    }
   ],
   "source": [
    "## Relations\n",
    "page_title = \"Relations\"\n",
    "lesson_page(page_title, [])"
   ]
  },
  {
   "cell_type": "code",
   "execution_count": 29,
   "metadata": {},
   "outputs": [
    {
     "name": "stdout",
     "output_type": "stream",
     "text": [
      "Page made: /calendar/functions.md\n"
     ]
    }
   ],
   "source": [
    "## Functions\n",
    "page_title = \"Functions\"\n",
    "lesson_page(page_title, [])"
   ]
  },
  {
   "cell_type": "code",
   "execution_count": 30,
   "metadata": {},
   "outputs": [
    {
     "name": "stdout",
     "output_type": "stream",
     "text": [
      "Page made: /calendar/practice-and-review-2.md\n"
     ]
    }
   ],
   "source": [
    "## Practice and Review\n",
    "page_title = \"Practice and Review 2\"\n",
    "lesson_page(page_title, [])"
   ]
  },
  {
   "cell_type": "code",
   "execution_count": 31,
   "metadata": {},
   "outputs": [
    {
     "name": "stdout",
     "output_type": "stream",
     "text": [
      "Page made: /calendar/number-theory.md\n"
     ]
    }
   ],
   "source": [
    "## Number Theory\n",
    "page_title = \"Number Theory\"\n",
    "lesson_page(page_title, [])"
   ]
  },
  {
   "cell_type": "code",
   "execution_count": 32,
   "metadata": {},
   "outputs": [
    {
     "name": "stdout",
     "output_type": "stream",
     "text": [
      "Page made: /calendar/proofs.md\n"
     ]
    }
   ],
   "source": [
    "## Proofs\n",
    "page_title = \"Proofs\"\n",
    "lesson_page(page_title, [])"
   ]
  },
  {
   "cell_type": "code",
   "execution_count": 33,
   "metadata": {},
   "outputs": [
    {
     "name": "stdout",
     "output_type": "stream",
     "text": [
      "Page made: /calendar/proofs-continued.md\n"
     ]
    }
   ],
   "source": [
    "## Proofs Continued\n",
    "page_title = \"Proofs Continued\"\n",
    "lesson_page(page_title, [])"
   ]
  },
  {
   "cell_type": "code",
   "execution_count": 34,
   "metadata": {},
   "outputs": [
    {
     "name": "stdout",
     "output_type": "stream",
     "text": [
      "Page made: /calendar/practice-and-review-3.md\n"
     ]
    }
   ],
   "source": [
    "## Practice and Review\n",
    "page_title = \"Practice and Review 3\"\n",
    "lesson_page(page_title, [])"
   ]
  },
  {
   "cell_type": "code",
   "execution_count": 35,
   "metadata": {},
   "outputs": [
    {
     "name": "stdout",
     "output_type": "stream",
     "text": [
      "Page made: /calendar/recursion.md\n"
     ]
    }
   ],
   "source": [
    "## Recursion\n",
    "page_title = \"Recursion\"\n",
    "lesson_page(page_title, [])"
   ]
  },
  {
   "cell_type": "code",
   "execution_count": 36,
   "metadata": {},
   "outputs": [
    {
     "name": "stdout",
     "output_type": "stream",
     "text": [
      "Page made: /calendar/induction.md\n"
     ]
    }
   ],
   "source": [
    "## Induction\n",
    "page_title = \"Induction\"\n",
    "lesson_page(page_title, [])"
   ]
  },
  {
   "cell_type": "code",
   "execution_count": 37,
   "metadata": {},
   "outputs": [
    {
     "name": "stdout",
     "output_type": "stream",
     "text": [
      "Page made: /calendar/analyzing-algorithms-and-invariants.md\n"
     ]
    }
   ],
   "source": [
    "## Analyzing Algorithms and Invariants\n",
    "page_title = \"Analyzing Algorithms and Invariants\"\n",
    "lesson_page(page_title, [])"
   ]
  },
  {
   "cell_type": "code",
   "execution_count": 38,
   "metadata": {},
   "outputs": [
    {
     "name": "stdout",
     "output_type": "stream",
     "text": [
      "Page made: /calendar/proving-invariants.md\n"
     ]
    }
   ],
   "source": [
    "## Proving Invariants\n",
    "page_title = \"Proving Invariants\"\n",
    "lesson_page(page_title, [])"
   ]
  },
  {
   "cell_type": "code",
   "execution_count": 39,
   "metadata": {},
   "outputs": [
    {
     "name": "stdout",
     "output_type": "stream",
     "text": [
      "Page made: /calendar/practice-and-review-4.md\n"
     ]
    }
   ],
   "source": [
    "## Practice and Review\n",
    "page_title = \"Practice and Review 4\"\n",
    "lesson_page(page_title, [])"
   ]
  },
  {
   "cell_type": "code",
   "execution_count": 40,
   "metadata": {},
   "outputs": [
    {
     "name": "stdout",
     "output_type": "stream",
     "text": [
      "Page made: /calendar/practice-and-review-5.md\n"
     ]
    }
   ],
   "source": [
    "## Practice and Review\n",
    "page_title = \"Practice and Review 5\"\n",
    "lesson_page(page_title, [])"
   ]
  }
 ],
 "metadata": {
  "kernelspec": {
   "display_name": "Python 3",
   "language": "python",
   "name": "python3"
  },
  "language_info": {
   "codemirror_mode": {
    "name": "ipython",
    "version": 3
   },
   "file_extension": ".py",
   "mimetype": "text/x-python",
   "name": "python",
   "nbconvert_exporter": "python",
   "pygments_lexer": "ipython3",
   "version": "3.11.2"
  },
  "orig_nbformat": 4
 },
 "nbformat": 4,
 "nbformat_minor": 2
}
