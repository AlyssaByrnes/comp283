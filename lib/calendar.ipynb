{
 "cells": [
  {
   "cell_type": "code",
   "execution_count": 1,
   "metadata": {},
   "outputs": [
    {
     "name": "stdout",
     "output_type": "stream",
     "text": [
      "../docs/lessons/Pseudocode.html\n",
      "Page made: /calendar/latex-and-pseudocode.md\n"
     ]
    }
   ],
   "source": [
    "from helpers import lesson_page, make_slides\n",
    "from constants import GRADESCOPE\n",
    "\n",
    "day1_title = \"LaTeX and Pseudocode\"\n",
    "\n",
    "intro = {\"Video\": \"https://youtu.be/KPnGD-Z-2Eg\", \"Slides\": \"/comp283/static/slides/0-Intro.pdf\"}\n",
    "intro_dict = {\"title\": \"Welcome!\", \"links\": intro}\n",
    "\n",
    "\n",
    "latex = {\"Assignment\": GRADESCOPE, \"*(No Video for this lesson)*\": \"\"}\n",
    "latex_dict = {\"title\": \"LaTeX\", \"links\": latex}\n",
    "\n",
    "pc = {\"Video\" : \"https://youtu.be/Pbi7gRJn06w\", \"Slides\": make_slides(\"Pseudocode.md\", False), \"Assignment\":GRADESCOPE}\n",
    "pc_dict = {\"title\": \"Pseudocode\", \"links\": pc}\n",
    "\n",
    "lesson_page(day1_title, [intro_dict, latex_dict, pc_dict])"
   ]
  },
  {
   "cell_type": "code",
   "execution_count": 2,
   "metadata": {},
   "outputs": [
    {
     "name": "stdout",
     "output_type": "stream",
     "text": [
      "../docs/lessons/PropLogic.html\n",
      "Page made: /calendar/propositional-logic.md\n"
     ]
    }
   ],
   "source": [
    "## Propositional Logic\n",
    "page_title = \"Propositional Logic\"\n",
    "\n",
    "links = {\"Video\": \"https://youtu.be/Jf7lZ_LQ5FM\", \"Slides\" : make_slides(\"PropLogic.md\", False), \"Assignment\":GRADESCOPE}\n",
    "\n",
    "lesson_page(page_title, [{\"title\": \"Propositional Logic\", \"links\": links}])"
   ]
  },
  {
   "cell_type": "code",
   "execution_count": 3,
   "metadata": {},
   "outputs": [],
   "source": [
    "# ## Practice and Review\n",
    "# page_title = \"Practice and Review 0\"\n",
    "# lesson_page(page_title, [])"
   ]
  },
  {
   "cell_type": "code",
   "execution_count": 4,
   "metadata": {},
   "outputs": [
    {
     "name": "stdout",
     "output_type": "stream",
     "text": [
      "../docs/lessons/SetsAndTuples.html\n",
      "Page made: /calendar/sets-tuples-and-counting.md\n"
     ]
    }
   ],
   "source": [
    "## Sets, Tuples, and Counting\n",
    "page_title = \"Sets, Tuples, and Counting\"\n",
    "slides = make_slides(\"SetsAndTuples.md\", False)\n",
    "links = {\"Video\": \"https://youtu.be/89Z-Yzxisag\", \"Slides\" : slides, \"Assignment\":GRADESCOPE}\n",
    "\n",
    "lesson_page(page_title, [{\"title\": page_title, \"links\": links}])"
   ]
  },
  {
   "cell_type": "code",
   "execution_count": 5,
   "metadata": {},
   "outputs": [
    {
     "name": "stdout",
     "output_type": "stream",
     "text": [
      "../docs/lessons/Quantifiers.html\n",
      "../docs/lessons/QuantifiersCode.html\n",
      "Page made: /calendar/quantifiers.md\n"
     ]
    }
   ],
   "source": [
    "## Quantifiers\n",
    "page_title = \"Quantifiers\"\n",
    "\n",
    "slides = make_slides(\"Quantifiers.md\", False)\n",
    "q_links = {\"Video\": \"https://youtu.be/RvTMf4l3mPo\", \"Slides\" : slides, \"Assignment\":GRADESCOPE}\n",
    "slides0 = make_slides(\"QuantifiersCode.md\", False)\n",
    "coding_links = {\"Slides\": slides0, \"*(Optional Review of Coding)*\": \"\"}\n",
    "\n",
    "lesson_page(page_title, [{\"title\": page_title, \"links\": q_links}, \n",
    "                         {\"title\": \"Intro to Coding\", \"links\": coding_links}])"
   ]
  },
  {
   "cell_type": "code",
   "execution_count": 6,
   "metadata": {},
   "outputs": [
    {
     "name": "stdout",
     "output_type": "stream",
     "text": [
      "../docs/lessons/SetOperations.html\n",
      "Page made: /calendar/set-operations.md\n"
     ]
    }
   ],
   "source": [
    "## Set Operations\n",
    "page_title = \"Set Operations\"\n",
    "slides = make_slides(\"SetOperations.md\", False)\n",
    "q_links = {\"Video\": \"https://youtu.be/fo_P22I71Zc\", \"Slides\" : slides, \"Assignment\":GRADESCOPE}\n",
    "lesson_page(page_title, [{\"title\": page_title, \"links\": q_links}])"
   ]
  },
  {
   "cell_type": "code",
   "execution_count": 7,
   "metadata": {},
   "outputs": [],
   "source": [
    "# ## Practice and Review\n",
    "# page_title = \"Practice and Review 1\"\n",
    "# lesson_page(page_title, [])"
   ]
  },
  {
   "cell_type": "code",
   "execution_count": 8,
   "metadata": {},
   "outputs": [
    {
     "name": "stdout",
     "output_type": "stream",
     "text": [
      "../docs/lessons/Relations.html\n",
      "Page made: /calendar/relations.md\n"
     ]
    }
   ],
   "source": [
    "## Relations\n",
    "page_title = \"Relations\"\n",
    "slides = make_slides(\"Relations.md\", False)\n",
    "q_links = {\"Video\": \"https://youtu.be/ggpdmbRWklY\", \"Slides\" : slides, \"Assignment\":GRADESCOPE}\n",
    "lesson_page(page_title, [{\"title\": page_title, \"links\": q_links}])"
   ]
  },
  {
   "cell_type": "code",
   "execution_count": 9,
   "metadata": {},
   "outputs": [
    {
     "name": "stdout",
     "output_type": "stream",
     "text": [
      "../docs/lessons/Functions.html\n",
      "../docs/lessons/CommonFunctions.html\n",
      "Page made: /calendar/functions.md\n"
     ]
    }
   ],
   "source": [
    "## Functions\n",
    "page_title = \"Functions\"\n",
    "slides = make_slides(\"Functions.md\", False)\n",
    "common_slides = make_slides(\"CommonFunctions.md\", False)\n",
    "q_links = {\"Video\": \"https://youtu.be/TQTOa7Eq0aY\", \"Slides\" : slides, \"Assignment\":GRADESCOPE}\n",
    "q_links_common = {\"Slides\" : common_slides, \"*(No video or assignment, but go through these slides!*)\": \"\"}\n",
    "lesson_page(page_title, [{\"title\": page_title, \"links\": q_links},\n",
    "                         {\"title\": \"Common Functions\", \"links\": q_links_common}])"
   ]
  },
  {
   "cell_type": "code",
   "execution_count": 10,
   "metadata": {},
   "outputs": [],
   "source": [
    "# ## Practice and Review\n",
    "# page_title = \"Practice and Review 2\"\n",
    "# lesson_page(page_title, [])"
   ]
  },
  {
   "cell_type": "code",
   "execution_count": 11,
   "metadata": {},
   "outputs": [
    {
     "name": "stdout",
     "output_type": "stream",
     "text": [
      "../docs/lessons/NumberTheory.html\n",
      "Page made: /calendar/number-theory.md\n"
     ]
    }
   ],
   "source": [
    "## Number Theory\n",
    "page_title = \"Number Theory\"\n",
    "slides = make_slides(\"NumberTheory.md\", False)\n",
    "q_links = {\"Video\": \"https://youtu.be/SF3czh8BFmk\", \"Slides\" : slides, \"Assignment\":GRADESCOPE, \"Extra Video\": \"https://youtu.be/Xpk67YzOn5w\"}\n",
    "p_links = {\"Video\": \"https://youtu.be/Mc6DQ6CB0TA\", \"Slides\": \"/comp283/static/slides/RSA-primes.pdf\"}\n",
    "lesson_page(page_title, [{\"title\": page_title, \"links\": q_links},\n",
    "                         {\"title\": \"RSA + Prime Numbers\", \"links\": p_links }])"
   ]
  },
  {
   "cell_type": "code",
   "execution_count": 12,
   "metadata": {},
   "outputs": [
    {
     "name": "stdout",
     "output_type": "stream",
     "text": [
      "../docs/lessons/Proofs.html\n",
      "Page made: /calendar/proofs.md\n"
     ]
    }
   ],
   "source": [
    "## Proofs\n",
    "page_title = \"Proofs\"\n",
    "slides = make_slides(\"Proofs.md\", False)\n",
    "q_links = {\"Video\": \"https://youtu.be/8JT9aPLxpPk\", \"Slides\" : slides, \"Assignment\":GRADESCOPE}\n",
    "lesson_page(page_title, [{\"title\": page_title, \"links\": q_links}])"
   ]
  },
  {
   "cell_type": "code",
   "execution_count": 13,
   "metadata": {},
   "outputs": [
    {
     "name": "stdout",
     "output_type": "stream",
     "text": [
      "../docs/lessons/ProofsCont.html\n",
      "Page made: /calendar/proofs-continued.md\n"
     ]
    }
   ],
   "source": [
    "## Proofs Continued\n",
    "page_title = \"Proofs Continued\"\n",
    "slides = make_slides(\"ProofsCont.md\", False)\n",
    "q_links = {\"Video\": \"https://youtu.be/vUmOQp2vlJw\", \"Slides\" : slides, \"Assignment\":GRADESCOPE}\n",
    "lesson_page(page_title, [{\"title\": page_title, \"links\": q_links}])"
   ]
  },
  {
   "cell_type": "code",
   "execution_count": 14,
   "metadata": {},
   "outputs": [],
   "source": [
    "# ## Practice and Review\n",
    "# page_title = \"Practice and Review 3\"\n",
    "# lesson_page(page_title, [])"
   ]
  },
  {
   "cell_type": "code",
   "execution_count": 15,
   "metadata": {},
   "outputs": [
    {
     "name": "stdout",
     "output_type": "stream",
     "text": [
      "../docs/lessons/Recursion.html\n",
      "Page made: /calendar/recursion.md\n"
     ]
    }
   ],
   "source": [
    "## Recursion\n",
    "page_title = \"Recursion\"\n",
    "slides = make_slides(\"Recursion.md\", False)\n",
    "q_links = {\"Video\": \"https://youtu.be/TTBgV6I2ubQ\", \"Slides\" : slides, \"Assignment\":GRADESCOPE}\n",
    "lesson_page(page_title, [{\"title\": page_title, \"links\": q_links}])"
   ]
  },
  {
   "cell_type": "code",
   "execution_count": 16,
   "metadata": {},
   "outputs": [
    {
     "name": "stdout",
     "output_type": "stream",
     "text": [
      "../docs/lessons/Induction.html\n",
      "Page made: /calendar/induction.md\n"
     ]
    }
   ],
   "source": [
    "## Induction\n",
    "page_title = \"Induction\"\n",
    "slides = make_slides(\"Induction.md\", False)\n",
    "q_links = {\"Video\": \"https://youtu.be/IFNhAR9LVUw\", \"Slides\" : slides, \"Assignment\":GRADESCOPE}\n",
    "q_links[\"Induction Template\"] = \"/comp283/static/resources/IndTemplate.pdf\"\n",
    "q_links[\"Induction Template (Printable)\"] = \"/comp283/static/resources/IndTemplateWritable.pdf\"\n",
    "lesson_page(page_title, [{\"title\": page_title, \"links\": q_links}])"
   ]
  },
  {
   "cell_type": "code",
   "execution_count": 17,
   "metadata": {},
   "outputs": [
    {
     "name": "stdout",
     "output_type": "stream",
     "text": [
      "['# Analyzing Algorithms\\n\\n- Invariants and Proofs\\n\\n- Analyzing Runtime\\n\\n# Invariant\\n\\n- An **invariant** is a statement that is true during all steps of a procedure.\\n\\n- In other words, your invariant should be true at Step 0, Step 1, and Step 1000 of your algorithm.\\n\\n- If the invariant holds for an arbitrary step of your algorithm, this means it\\'ll always hold! (What does that sound like?)\\n\\n- If the invariant always holds, this means that it\\'ll hold at the last step, which tells us something about our output!\\n\\n# Example\\n\\nLet\\'s look at our pseudocode for finding the index of the max value in an array.\\n\\n    1. INPUT: array A\\n    2. max_idx = 0\\n    3. max_elem = A[0]\\n    4. n = length(A)\\n    5. FOR i in [1,n-1]:\\n    6.    IF A[i] > max_elem:\\n    7.        max_elem = A[i]\\n    8.        max_idx = i\\n    9. RETURN max_idx\\n    \\n- An example invariant could be:\\n\\n- $$ \\\\textrm{For input array } A, \\\\forall i \\\\in [0, \\\\verb|length(A)|), \\\\exists \\\\verb| max_idx| \\\\in [0,i), \\\\textrm{ and } \\\\forall j \\\\in [0,i), \\\\verb|A[max_idx]| \\\\geq \\\\verb|A[j]|$$\\n\\n- Note that invariants are often called \"loop invariants\" because they are really describing what is happening inside of our loop!\\n\\n- Now, let\\'s apply it for $i = n-1$ (aka, the end of our for loop)\\n\\n- $$\\\\exists \\\\verb| max_idx| \\\\in [0,n-1), \\\\textrm{ and } \\\\forall j \\\\in [0,n-1), \\\\verb|A[max_idx]| \\\\geq \\\\verb|A[j]|$$\\n\\n- That looks a lot like what we wrote for our generalized output!\\n\\n# Proving our Invariant\\n\\n- We\\'ve discussed that if we can prove our invariant, we can prove something about our output! So how do we prove our invariant?\\n\\n- We can prove our invariant by induction!\\n\\n- We are going to induct on our loop variable $i$ and show that for every trip through the loop our invariant holds!\\n\\n<img src=\"https://i.imgur.com/JXtLDMR.png\" width=\"600\"/>\\n\\n# Proving our Invariant\\n\\n1. We want to prove: $\\\\textrm{For input array } A, \\\\forall i \\\\in [0, \\\\verb|length(A)|), \\\\exists \\\\verb| max_idx| \\\\in [0,i), \\\\textrm{ and } \\\\forall j \\\\in [0,i), \\\\verb|A[max_idx]| \\\\geq \\\\verb|A[j]|$\\n\\n2. We prove this by induction on $i$.\\n\\n# Proving our Invariant\\n\\n    1. INPUT: array A\\n    2. max_idx = 0\\n    3. max_elem = A[0]\\n    4. n = length(A)\\n    5. FOR i in [1,n-1]:\\n    6.    IF A[i] > max_elem:\\n    7.        max_elem = A[i]\\n    8.        max_idx = i\\n    9. RETURN max_idx\\n    \\n<img src=\"https://i.imgur.com/t5jrK7A.png\" width=\"600\"/>\\n\\n3. Base case: $i = 1$. (*Before* we enter the loop.) \\n$\\\\exists \\\\verb| max_idx| \\\\in [0,1), \\\\textrm{ and } \\\\forall j \\\\in [0,1), \\\\verb|A[max_idx]| \\\\geq \\\\verb|A[j]|$\\n\\n- Possible values for $\\\\verb|max_idx|$: $0$\\n- Possible values for $j$: $0$\\n- $\\\\verb|A[0]| \\\\geq \\\\verb|A[0]| \\\\square$\\n\\n# Proving our Invariant\\n\\n4. For a given $i > 1$, \\n\\n5. Induction Hypothesis: I can assume, for all $k$, with 1 \\\\leq k < i, that $\\\\exists \\\\verb| max_idx| \\\\in [0,k), \\\\textrm{ and } \\\\forall j \\\\in [0,k), \\\\verb|A[max_idx]| \\\\geq \\\\verb|A[j]|$\\n\\n6. I want to prove that $\\\\exists \\\\verb| max_idx| \\\\in [0,i), \\\\textrm{ and } \\\\forall j \\\\in [0,i), \\\\verb|A[max_idx]| \\\\geq \\\\verb|A[j]|$\\n\\n<img src=\"https://i.imgur.com/a5HS6Lw.png\" width=\"600\"/>\\n\\n\\n# Proving our invariant\\n\\n7. Applying our Inductive Hypothesis, let $k= i-1$. \\n\\n- (In other words, we\\'re saying our invariant holds for all indexes up to $i$.)\\n\\n- This means: \\n$\\\\exists \\\\verb| max_idx| \\\\in [0,i-1), \\\\textrm{ and } \\\\forall j \\\\in [0,i-1), \\\\verb|A[max_idx]| \\\\geq \\\\verb|A[j]|$.\\n\\n- So we just need to take one more step through our loop such that we get to step $i$.\\n\\n- Line 6, we have an IF statement, so let\\'s do a proof by cases!\\n\\n- Case 1: $\\\\verb|A[i] > max_elem|$\\n\\n- Case 2: $\\\\verb|A[i]| \\\\leq \\\\verb|max_elem|$\\n\\n# Proving our invariant\\n\\n    1. INPUT: array A\\n    2. max_idx = 0\\n    3. max_elem = A[0]\\n    4. n = length(A)\\n    5. FOR i in [1,n-1]:\\n    6.    IF A[i] > max_elem:\\n    7.        max_elem = A[i]\\n    8.        max_idx = i\\n    9. RETURN max_idx\\n\\nCase 1: $\\\\verb|A[i]| > \\\\verb|max_elem|$\\n\\n\\\\begin{equation}\\n\\\\begin{array}{l l l}\\n    1. & \\\\forall k, 1 \\\\leq k < i, \\\\exists \\\\verb| max_idx| \\\\in [0,k), \\\\textrm{ and } \\\\forall j \\\\in [0,k), \\\\verb|A[max_idx]| \\\\geq \\\\verb|A[j]| \\n     & \\\\textrm{Ind. Hypothesis}\\\\\\\\\\n     2. & \\\\exists \\\\verb| max_idx| \\\\in [0,i-1), \\\\textrm{ and } \\\\forall j \\\\in [0,i-1), \\\\verb|A[max_idx]| \\\\geq \\\\verb|A[j]| & \\\\textrm{Ind. Hypothesis with } k = i-1 \\\\\\\\\\n     3. & \\\\verb|A[i] > max_elem| & \\\\textrm{Case 1}\\\\\\\\\\n     4. & \\\\verb|max_elem\\' = A[i]| \\\\land \\\\verb|max_idx = i| & \\\\textrm{Defined in code}\\\\\\\\\\n     5. & \\\\forall j \\\\in [0,i), \\\\verb|A[max_idx\\']| \\\\geq \\\\verb|A[j]| & \\\\textrm{Combined 2, 3, and 4}\\n\\\\end{array}\\n\\\\end{equation}\\n\\n# Proving our invariant\\n\\n    1. INPUT: array A\\n    2. max_idx = 0\\n    3. max_elem = A[0]\\n    4. n = length(A)\\n    5. FOR i in [1,n-1]:\\n    6.    IF A[i] > max_elem:\\n    7.        max_elem = A[i]\\n    8.        max_idx = i\\n    9. RETURN max_idx\\n\\nCase 2: $\\\\verb|A[i]|  \\\\leq \\\\verb|max_elem|$\\n\\n\\\\begin{equation}\\n\\\\begin{array}{l l l}\\n    1. & \\\\forall k, 1 \\\\leq k < i, \\\\exists \\\\verb| max_idx| \\\\in [0,k), \\\\textrm{ and } \\\\forall j \\\\in [0,k), \\\\verb|A[max_idx]| \\\\geq \\\\verb|A[j]| \\n     & \\\\textrm{Ind. Hypothesis}\\\\\\\\\\n     2. & \\\\exists \\\\verb| max_idx| \\\\in [0,i-1), \\\\textrm{ and } \\\\forall j \\\\in [0,i-1), \\\\verb|A[max_idx]| \\\\geq \\\\verb|A[j]| & \\\\textrm{Ind. Hypothesis with } k = i-1 \\\\\\\\\\n     3. & \\\\verb|A[i]| \\\\leq \\\\verb|max_elem| & \\\\textrm{Case 2}\\\\\\\\\\n     4. & \\\\forall j \\\\in [0,i), \\\\verb|A[max_idx\\']| \\\\geq \\\\verb|A[j]| & \\\\textrm{Combined 2 and 3} \\\\square\\n\\\\end{array}\\n\\\\end{equation}\\n\\n\\n8. Therefore, we have proved $\\\\textrm{For input array } A, \\\\forall i \\\\in [0, \\\\verb|length(A)|), \\\\exists \\\\verb| max_idx| \\\\in [0,i), \\\\textrm{ and } \\\\forall j \\\\in [0,i), \\\\verb|A[max_idx]| \\\\geq \\\\verb|A[j]|$ by induction.\\n\\n\\n']\n",
      "../docs/lessons/AnalyzingAlgs.html\n",
      "Page made: /calendar/analyzing-algorithms-and-invariants.md\n"
     ]
    }
   ],
   "source": [
    "## Analyzing Algorithms and Invariants\n",
    "page_title = \"Analyzing Algorithms and Invariants\"\n",
    "slides = \"/comp283/static/slides/Invariants.pdf\"\n",
    "q_links = {\"Video\": \"\", \"Slides\" : slides, \"Assignment\":GRADESCOPE}\n",
    "lesson_page(page_title, [{\"title\": page_title, \"links\": q_links}])"
   ]
  },
  {
   "cell_type": "code",
   "execution_count": 18,
   "metadata": {},
   "outputs": [
    {
     "name": "stdout",
     "output_type": "stream",
     "text": [
      "Page made: /calendar/proving-invariants.md\n"
     ]
    }
   ],
   "source": [
    "## Proving Invariants\n",
    "page_title = \"Proving Invariants\"\n",
    "#slides = make_slides(\"\", False)\n",
    "q_links = {\"Video\": \"\", \"Slides\" : slides, \"Assignment\":GRADESCOPE}\n",
    "lesson_page(page_title, [{\"title\": page_title, \"links\": q_links}])"
   ]
  },
  {
   "cell_type": "code",
   "execution_count": 19,
   "metadata": {},
   "outputs": [
    {
     "name": "stdout",
     "output_type": "stream",
     "text": [
      "Page made: /calendar/practice-and-review-4.md\n"
     ]
    }
   ],
   "source": [
    "## Practice and Review\n",
    "page_title = \"Practice and Review 4\"\n",
    "lesson_page(page_title, [])"
   ]
  },
  {
   "cell_type": "code",
   "execution_count": 20,
   "metadata": {},
   "outputs": [
    {
     "name": "stdout",
     "output_type": "stream",
     "text": [
      "Page made: /calendar/practice-and-review-5.md\n"
     ]
    }
   ],
   "source": [
    "## Practice and Review\n",
    "page_title = \"Practice and Review 5\"\n",
    "lesson_page(page_title, [])"
   ]
  }
 ],
 "metadata": {
  "kernelspec": {
   "display_name": "Python 3",
   "language": "python",
   "name": "python3"
  },
  "language_info": {
   "codemirror_mode": {
    "name": "ipython",
    "version": 3
   },
   "file_extension": ".py",
   "mimetype": "text/x-python",
   "name": "python",
   "nbconvert_exporter": "python",
   "pygments_lexer": "ipython3",
   "version": "3.11.2"
  },
  "orig_nbformat": 4
 },
 "nbformat": 4,
 "nbformat_minor": 2
}
