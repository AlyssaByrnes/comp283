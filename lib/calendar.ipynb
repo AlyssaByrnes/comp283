{
 "cells": [
  {
   "cell_type": "code",
   "execution_count": 861,
   "metadata": {},
   "outputs": [
    {
     "name": "stdout",
     "output_type": "stream",
     "text": [
      "../docs/lessons/Pseudocode.html\n",
      "Page made: /calendar/latex-and-pseudocode.md\n"
     ]
    }
   ],
   "source": [
    "from helpers import lesson_page, make_slides\n",
    "from constants import GRADESCOPE\n",
    "\n",
    "day1_title = \"LaTeX and Pseudocode\"\n",
    "\n",
    "intro = {\"Video\": \"https://youtu.be/KPnGD-Z-2Eg\", \"Slides\": \"/comp283/static/slides/0-Intro.pdf\"}\n",
    "intro_dict = {\"title\": \"Welcome!\", \"links\": intro}\n",
    "\n",
    "\n",
    "latex = {\"Assignment\": GRADESCOPE, \"*(No Video for this lesson)*\": \"\"}\n",
    "latex_dict = {\"title\": \"LaTeX\", \"links\": latex}\n",
    "\n",
    "pc = {\"Video\" : \"https://youtu.be/Pbi7gRJn06w\", \"Slides\": make_slides(\"Pseudocode.md\", False), \"Assignment\":GRADESCOPE}\n",
    "pc_dict = {\"title\": \"Pseudocode\", \"links\": pc}\n",
    "\n",
    "lesson_page(day1_title, [intro_dict, latex_dict, pc_dict])"
   ]
  },
  {
   "cell_type": "code",
   "execution_count": 862,
   "metadata": {},
   "outputs": [
    {
     "name": "stdout",
     "output_type": "stream",
     "text": [
      "../docs/lessons/PropLogic.html\n",
      "Page made: /calendar/propositional-logic.md\n"
     ]
    }
   ],
   "source": [
    "## Propositional Logic\n",
    "page_title = \"Propositional Logic\"\n",
    "\n",
    "links = {\"Video\": \"https://youtu.be/Jf7lZ_LQ5FM\", \"Slides\" : make_slides(\"PropLogic.md\", False), \"Assignment\":GRADESCOPE}\n",
    "\n",
    "lesson_page(page_title, [{\"title\": \"Propositional Logic\", \"links\": links}])"
   ]
  },
  {
   "cell_type": "code",
   "execution_count": 863,
   "metadata": {},
   "outputs": [],
   "source": [
    "# ## Practice and Review\n",
    "# page_title = \"Practice and Review 0\"\n",
    "# lesson_page(page_title, [])"
   ]
  },
  {
   "cell_type": "code",
   "execution_count": 864,
   "metadata": {},
   "outputs": [
    {
     "name": "stdout",
     "output_type": "stream",
     "text": [
      "../docs/lessons/SetsAndTuples.html\n",
      "Page made: /calendar/sets-tuples-and-counting.md\n"
     ]
    }
   ],
   "source": [
    "## Sets, Tuples, and Counting\n",
    "page_title = \"Sets, Tuples, and Counting\"\n",
    "slides = make_slides(\"SetsAndTuples.md\", False)\n",
    "links = {\"Video\": \"https://youtu.be/89Z-Yzxisag\", \"Slides\" : slides, \"Assignment\":GRADESCOPE}\n",
    "\n",
    "lesson_page(page_title, [{\"title\": page_title, \"links\": links}])"
   ]
  },
  {
   "cell_type": "code",
   "execution_count": 865,
   "metadata": {},
   "outputs": [
    {
     "name": "stdout",
     "output_type": "stream",
     "text": [
      "../docs/lessons/Quantifiers.html\n",
      "../docs/lessons/QuantifiersCode.html\n",
      "Page made: /calendar/quantifiers.md\n"
     ]
    }
   ],
   "source": [
    "## Quantifiers\n",
    "page_title = \"Quantifiers\"\n",
    "\n",
    "slides = make_slides(\"Quantifiers.md\", False)\n",
    "q_links = {\"Video\": \"https://youtu.be/RvTMf4l3mPo\", \"Slides\" : slides, \"Assignment\":GRADESCOPE}\n",
    "slides0 = make_slides(\"QuantifiersCode.md\", False)\n",
    "coding_links = {\"Slides\": slides0, \"*(Optional Review of Coding)*\": \"\"}\n",
    "\n",
    "lesson_page(page_title, [{\"title\": page_title, \"links\": q_links}, \n",
    "                         {\"title\": \"Intro to Coding\", \"links\": coding_links}])"
   ]
  },
  {
   "cell_type": "code",
   "execution_count": 866,
   "metadata": {},
   "outputs": [
    {
     "name": "stdout",
     "output_type": "stream",
     "text": [
      "../docs/lessons/SetOperations.html\n",
      "Page made: /calendar/set-operations.md\n"
     ]
    }
   ],
   "source": [
    "## Set Operations\n",
    "page_title = \"Set Operations\"\n",
    "slides = make_slides(\"SetOperations.md\", False)\n",
    "q_links = {\"Video\": \"https://youtu.be/fo_P22I71Zc\", \"Slides\" : slides, \"Assignment\":GRADESCOPE}\n",
    "lesson_page(page_title, [{\"title\": page_title, \"links\": q_links}])"
   ]
  },
  {
   "cell_type": "code",
   "execution_count": 867,
   "metadata": {},
   "outputs": [],
   "source": [
    "# ## Practice and Review\n",
    "# page_title = \"Practice and Review 1\"\n",
    "# lesson_page(page_title, [])"
   ]
  },
  {
   "cell_type": "code",
   "execution_count": 868,
   "metadata": {},
   "outputs": [
    {
     "name": "stdout",
     "output_type": "stream",
     "text": [
      "../docs/lessons/Relations.html\n",
      "Page made: /calendar/relations.md\n"
     ]
    }
   ],
   "source": [
    "## Relations\n",
    "page_title = \"Relations\"\n",
    "slides = make_slides(\"Relations.md\", False)\n",
    "q_links = {\"Video\": \"https://youtu.be/ggpdmbRWklY\", \"Slides\" : slides, \"Assignment\":GRADESCOPE}\n",
    "lesson_page(page_title, [{\"title\": page_title, \"links\": q_links}])"
   ]
  },
  {
   "cell_type": "code",
   "execution_count": 869,
   "metadata": {},
   "outputs": [
    {
     "name": "stdout",
     "output_type": "stream",
     "text": [
      "../docs/lessons/Functions.html\n",
      "Page made: /calendar/functions.md\n"
     ]
    }
   ],
   "source": [
    "## Functions\n",
    "page_title = \"Functions\"\n",
    "slides = make_slides(\"Functions.md\", False)\n",
    "q_links = {\"Video\": \"\", \"Slides\" : slides, \"Assignment\":GRADESCOPE}\n",
    "lesson_page(page_title, [{\"title\": page_title, \"links\": q_links}])"
   ]
  },
  {
   "cell_type": "code",
   "execution_count": 870,
   "metadata": {},
   "outputs": [
    {
     "name": "stdout",
     "output_type": "stream",
     "text": [
      "Page made: /calendar/practice-and-review-2.md\n"
     ]
    }
   ],
   "source": [
    "# ## Practice and Review\n",
    "# page_title = \"Practice and Review 2\"\n",
    "# lesson_page(page_title, [])"
   ]
  },
  {
   "cell_type": "code",
   "execution_count": 871,
   "metadata": {},
   "outputs": [
    {
     "name": "stdout",
     "output_type": "stream",
     "text": [
      "Page made: /calendar/number-theory.md\n"
     ]
    }
   ],
   "source": [
    "## Number Theory\n",
    "page_title = \"Number Theory\"\n",
    "lesson_page(page_title, [])"
   ]
  },
  {
   "cell_type": "code",
   "execution_count": 872,
   "metadata": {},
   "outputs": [
    {
     "name": "stdout",
     "output_type": "stream",
     "text": [
      "Page made: /calendar/proofs.md\n"
     ]
    }
   ],
   "source": [
    "## Proofs\n",
    "page_title = \"Proofs\"\n",
    "lesson_page(page_title, [])"
   ]
  },
  {
   "cell_type": "code",
   "execution_count": 873,
   "metadata": {},
   "outputs": [
    {
     "name": "stdout",
     "output_type": "stream",
     "text": [
      "Page made: /calendar/proofs-continued.md\n"
     ]
    }
   ],
   "source": [
    "## Proofs Continued\n",
    "page_title = \"Proofs Continued\"\n",
    "lesson_page(page_title, [])"
   ]
  },
  {
   "cell_type": "code",
   "execution_count": 874,
   "metadata": {},
   "outputs": [
    {
     "name": "stdout",
     "output_type": "stream",
     "text": [
      "Page made: /calendar/practice-and-review-3.md\n"
     ]
    }
   ],
   "source": [
    "## Practice and Review\n",
    "page_title = \"Practice and Review 3\"\n",
    "lesson_page(page_title, [])"
   ]
  },
  {
   "cell_type": "code",
   "execution_count": 875,
   "metadata": {},
   "outputs": [
    {
     "name": "stdout",
     "output_type": "stream",
     "text": [
      "Page made: /calendar/recursion.md\n"
     ]
    }
   ],
   "source": [
    "## Recursion\n",
    "page_title = \"Recursion\"\n",
    "lesson_page(page_title, [])"
   ]
  },
  {
   "cell_type": "code",
   "execution_count": 876,
   "metadata": {},
   "outputs": [
    {
     "name": "stdout",
     "output_type": "stream",
     "text": [
      "Page made: /calendar/induction.md\n"
     ]
    }
   ],
   "source": [
    "## Induction\n",
    "page_title = \"Induction\"\n",
    "lesson_page(page_title, [])"
   ]
  },
  {
   "cell_type": "code",
   "execution_count": 877,
   "metadata": {},
   "outputs": [
    {
     "name": "stdout",
     "output_type": "stream",
     "text": [
      "Page made: /calendar/analyzing-algorithms-and-invariants.md\n"
     ]
    }
   ],
   "source": [
    "## Analyzing Algorithms and Invariants\n",
    "page_title = \"Analyzing Algorithms and Invariants\"\n",
    "lesson_page(page_title, [])"
   ]
  },
  {
   "cell_type": "code",
   "execution_count": 878,
   "metadata": {},
   "outputs": [
    {
     "name": "stdout",
     "output_type": "stream",
     "text": [
      "Page made: /calendar/proving-invariants.md\n"
     ]
    }
   ],
   "source": [
    "## Proving Invariants\n",
    "page_title = \"Proving Invariants\"\n",
    "lesson_page(page_title, [])"
   ]
  },
  {
   "cell_type": "code",
   "execution_count": 879,
   "metadata": {},
   "outputs": [
    {
     "name": "stdout",
     "output_type": "stream",
     "text": [
      "Page made: /calendar/practice-and-review-4.md\n"
     ]
    }
   ],
   "source": [
    "## Practice and Review\n",
    "page_title = \"Practice and Review 4\"\n",
    "lesson_page(page_title, [])"
   ]
  },
  {
   "cell_type": "code",
   "execution_count": 880,
   "metadata": {},
   "outputs": [
    {
     "name": "stdout",
     "output_type": "stream",
     "text": [
      "Page made: /calendar/practice-and-review-5.md\n"
     ]
    }
   ],
   "source": [
    "## Practice and Review\n",
    "page_title = \"Practice and Review 5\"\n",
    "lesson_page(page_title, [])"
   ]
  }
 ],
 "metadata": {
  "kernelspec": {
   "display_name": "Python 3",
   "language": "python",
   "name": "python3"
  },
  "language_info": {
   "codemirror_mode": {
    "name": "ipython",
    "version": 3
   },
   "file_extension": ".py",
   "mimetype": "text/x-python",
   "name": "python",
   "nbconvert_exporter": "python",
   "pygments_lexer": "ipython3",
   "version": "3.11.2"
  },
  "orig_nbformat": 4
 },
 "nbformat": 4,
 "nbformat_minor": 2
}
