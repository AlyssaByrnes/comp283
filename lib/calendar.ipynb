{
 "cells": [
  {
   "cell_type": "code",
   "execution_count": 63,
   "metadata": {},
   "outputs": [
    {
     "name": "stdout",
     "output_type": "stream",
     "text": [
      "Page made: /calendar/latex-and-pseudocode.md\n"
     ]
    }
   ],
   "source": [
    "from helpers import lesson_page\n",
    "from constants import GRADESCOPE\n",
    "\n",
    "day1_title = \"LaTeX and Pseudocode\"\n",
    "\n",
    "intro = {\"Video\": \"\", \"Slides\": \"/static/slides/0-Intro.pdf\"}\n",
    "latex_dict = {\"title\": \"Welcome!\", \"links\": intro}\n",
    "\n",
    "\n",
    "latex = {\"Assignment\": GRADESCOPE}\n",
    "latex_dict = {\"title\": \"LaTeX\", \"links\": latex}\n",
    "\n",
    "pc = {\"Video\" : \"\", \"Assignment\":GRADESCOPE}\n",
    "pc_dict = {\"title\": \"Pseudocode\", \"links\": pc}\n",
    "\n",
    "lesson_page(day1_title, [latex_dict, pc_dict])"
   ]
  },
  {
   "cell_type": "code",
   "execution_count": 64,
   "metadata": {},
   "outputs": [
    {
     "name": "stdout",
     "output_type": "stream",
     "text": [
      "Page made: /calendar/propositional-logic.md\n"
     ]
    }
   ],
   "source": [
    "## Propositional Logic\n",
    "page_title = \"Propositional Logic\"\n",
    "\n",
    "links = {\"Video\": \"\", \"Lesson\" : \"/comp283/lessons/prop-logic.html\", \"Assignment\":GRADESCOPE}\n",
    "\n",
    "lesson_page(page_title, [{\"title\": \"Propositional Logic\", \"links\": links}])"
   ]
  },
  {
   "cell_type": "code",
   "execution_count": 65,
   "metadata": {},
   "outputs": [
    {
     "name": "stdout",
     "output_type": "stream",
     "text": [
      "Page made: /calendar/practice-and-review-0.md\n"
     ]
    }
   ],
   "source": [
    "## Practice and Review\n",
    "page_title = \"Practice and Review 0\"\n",
    "lesson_page(page_title, [])"
   ]
  },
  {
   "cell_type": "code",
   "execution_count": 66,
   "metadata": {},
   "outputs": [
    {
     "name": "stdout",
     "output_type": "stream",
     "text": [
      "Page made: /calendar/sets-tuples-and-counting.md\n"
     ]
    }
   ],
   "source": [
    "## Sets, Tuples, and Counting\n",
    "page_title = \"Sets, Tuples, and Counting\"\n",
    "lesson_page(page_title, [])"
   ]
  },
  {
   "cell_type": "code",
   "execution_count": 67,
   "metadata": {},
   "outputs": [
    {
     "name": "stdout",
     "output_type": "stream",
     "text": [
      "Page made: /calendar/quantifiers.md\n"
     ]
    }
   ],
   "source": [
    "## Quantifiers\n",
    "page_title = \"Quantifiers\"\n",
    "lesson_page(page_title, [])"
   ]
  },
  {
   "cell_type": "code",
   "execution_count": 68,
   "metadata": {},
   "outputs": [
    {
     "name": "stdout",
     "output_type": "stream",
     "text": [
      "Page made: /calendar/set-operations.md\n"
     ]
    }
   ],
   "source": [
    "## Set Operations\n",
    "page_title = \"Set Operations\"\n",
    "lesson_page(page_title, [])"
   ]
  },
  {
   "cell_type": "code",
   "execution_count": 69,
   "metadata": {},
   "outputs": [
    {
     "name": "stdout",
     "output_type": "stream",
     "text": [
      "Page made: /calendar/practice-and-review-1.md\n"
     ]
    }
   ],
   "source": [
    "## Practice and Review\n",
    "page_title = \"Practice and Review 1\"\n",
    "lesson_page(page_title, [])"
   ]
  },
  {
   "cell_type": "code",
   "execution_count": 70,
   "metadata": {},
   "outputs": [
    {
     "name": "stdout",
     "output_type": "stream",
     "text": [
      "Page made: /calendar/relations.md\n"
     ]
    }
   ],
   "source": [
    "## Relations\n",
    "page_title = \"Relations\"\n",
    "lesson_page(page_title, [])"
   ]
  },
  {
   "cell_type": "code",
   "execution_count": 71,
   "metadata": {},
   "outputs": [
    {
     "name": "stdout",
     "output_type": "stream",
     "text": [
      "Page made: /calendar/functions.md\n"
     ]
    }
   ],
   "source": [
    "## Functions\n",
    "page_title = \"Functions\"\n",
    "lesson_page(page_title, [])"
   ]
  },
  {
   "cell_type": "code",
   "execution_count": 72,
   "metadata": {},
   "outputs": [
    {
     "name": "stdout",
     "output_type": "stream",
     "text": [
      "Page made: /calendar/practice-and-review-2.md\n"
     ]
    }
   ],
   "source": [
    "## Practice and Review\n",
    "page_title = \"Practice and Review 2\"\n",
    "lesson_page(page_title, [])"
   ]
  },
  {
   "cell_type": "code",
   "execution_count": 73,
   "metadata": {},
   "outputs": [
    {
     "name": "stdout",
     "output_type": "stream",
     "text": [
      "Page made: /calendar/number-theory.md\n"
     ]
    }
   ],
   "source": [
    "## Number Theory\n",
    "page_title = \"Number Theory\"\n",
    "lesson_page(page_title, [])"
   ]
  },
  {
   "cell_type": "code",
   "execution_count": 74,
   "metadata": {},
   "outputs": [
    {
     "name": "stdout",
     "output_type": "stream",
     "text": [
      "Page made: /calendar/proofs.md\n"
     ]
    }
   ],
   "source": [
    "## Proofs\n",
    "page_title = \"Proofs\"\n",
    "lesson_page(page_title, [])"
   ]
  },
  {
   "cell_type": "code",
   "execution_count": 75,
   "metadata": {},
   "outputs": [
    {
     "name": "stdout",
     "output_type": "stream",
     "text": [
      "Page made: /calendar/proofs-continued.md\n"
     ]
    }
   ],
   "source": [
    "## Proofs Continued\n",
    "page_title = \"Proofs Continued\"\n",
    "lesson_page(page_title, [])"
   ]
  },
  {
   "cell_type": "code",
   "execution_count": 76,
   "metadata": {},
   "outputs": [
    {
     "name": "stdout",
     "output_type": "stream",
     "text": [
      "Page made: /calendar/practice-and-review-3.md\n"
     ]
    }
   ],
   "source": [
    "## Practice and Review\n",
    "page_title = \"Practice and Review 3\"\n",
    "lesson_page(page_title, [])"
   ]
  },
  {
   "cell_type": "code",
   "execution_count": 77,
   "metadata": {},
   "outputs": [
    {
     "name": "stdout",
     "output_type": "stream",
     "text": [
      "Page made: /calendar/recursion.md\n"
     ]
    }
   ],
   "source": [
    "## Recursion\n",
    "page_title = \"Recursion\"\n",
    "lesson_page(page_title, [])"
   ]
  },
  {
   "cell_type": "code",
   "execution_count": 78,
   "metadata": {},
   "outputs": [
    {
     "name": "stdout",
     "output_type": "stream",
     "text": [
      "Page made: /calendar/induction.md\n"
     ]
    }
   ],
   "source": [
    "## Induction\n",
    "page_title = \"Induction\"\n",
    "lesson_page(page_title, [])"
   ]
  },
  {
   "cell_type": "code",
   "execution_count": 79,
   "metadata": {},
   "outputs": [
    {
     "name": "stdout",
     "output_type": "stream",
     "text": [
      "Page made: /calendar/analyzing-algorithms-and-invariants.md\n"
     ]
    }
   ],
   "source": [
    "## Analyzing Algorithms and Invariants\n",
    "page_title = \"Analyzing Algorithms and Invariants\"\n",
    "lesson_page(page_title, [])"
   ]
  },
  {
   "cell_type": "code",
   "execution_count": 80,
   "metadata": {},
   "outputs": [
    {
     "name": "stdout",
     "output_type": "stream",
     "text": [
      "Page made: /calendar/proving-invariants.md\n"
     ]
    }
   ],
   "source": [
    "## Proving Invariants\n",
    "page_title = \"Proving Invariants\"\n",
    "lesson_page(page_title, [])"
   ]
  },
  {
   "cell_type": "code",
   "execution_count": 81,
   "metadata": {},
   "outputs": [
    {
     "name": "stdout",
     "output_type": "stream",
     "text": [
      "Page made: /calendar/practice-and-review-4.md\n"
     ]
    }
   ],
   "source": [
    "## Practice and Review\n",
    "page_title = \"Practice and Review 4\"\n",
    "lesson_page(page_title, [])"
   ]
  },
  {
   "cell_type": "code",
   "execution_count": 82,
   "metadata": {},
   "outputs": [
    {
     "name": "stdout",
     "output_type": "stream",
     "text": [
      "Page made: /calendar/practice-and-review-5.md\n"
     ]
    }
   ],
   "source": [
    "## Practice and Review\n",
    "page_title = \"Practice and Review 5\"\n",
    "lesson_page(page_title, [])"
   ]
  }
 ],
 "metadata": {
  "kernelspec": {
   "display_name": "Python 3",
   "language": "python",
   "name": "python3"
  },
  "language_info": {
   "codemirror_mode": {
    "name": "ipython",
    "version": 3
   },
   "file_extension": ".py",
   "mimetype": "text/x-python",
   "name": "python",
   "nbconvert_exporter": "python",
   "pygments_lexer": "ipython3",
   "version": "3.11.2"
  },
  "orig_nbformat": 4
 },
 "nbformat": 4,
 "nbformat_minor": 2
}
