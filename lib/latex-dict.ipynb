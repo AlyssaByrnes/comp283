{
 "cells": [
  {
   "attachments": {},
   "cell_type": "markdown",
   "metadata": {},
   "source": [
    "# Update The Latex Guide Page based on the tex-guide.txt File"
   ]
  },
  {
   "cell_type": "code",
   "execution_count": null,
   "metadata": {},
   "outputs": [],
   "source": [
    "TEX = \"tex-guide.txt\"\n",
    "TAB = \"    \"\n",
    "\n",
    "# Read Tex Guide\n",
    "f = open(\"tex-guide.txt\", \"r\")\n",
    "lines = f.readlines()\n",
    "f.close()\n",
    "\n",
    "# Make Page Header\n",
    "page = \"---\\nlayout: default\\ntitle: LaTeX Guide\\ncontributors: Alyssa Byrnes\\n---\\n\"\n",
    "num_tables = 0\n",
    "page += \"<table>\"\n",
    "\n",
    "for line in lines:\n",
    "    if line[0] == \"#\" and num_tables > 0:\n",
    "        # End previous table, start new table\n",
    "        page += line\n",
    "        page += \"</table>\\n\"\n",
    "        page += \"<table>\\n\"\n",
    "        num_tables += 1\n",
    "    else:\n",
    "        # Each line is a row of the table\n",
    "        page += TAB + \"<tr>\\n\"\n",
    "        cols = line.split(\",\")\n",
    "        # Fill each column\n",
    "        for col in cols:\n",
    "            page += TAB*2 + \"<td> \" + col  + \"</td>\\n\"\n",
    "        page += TAB + \"</tr>\\n\"\n",
    "page += \"</table>\"\n",
    "\n",
    "# Write new file\n",
    "FNAME = \"../docs/calendar/latex-guide.md\"\n",
    "g = open(FNAME, \"w\")\n",
    "g.writelines(page)\n",
    "g.close()"
   ]
  }
 ],
 "metadata": {
  "language_info": {
   "name": "python"
  },
  "orig_nbformat": 4
 },
 "nbformat": 4,
 "nbformat_minor": 2
}
