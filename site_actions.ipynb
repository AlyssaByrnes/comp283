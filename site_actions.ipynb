{
 "cells": [
  {
   "attachments": {},
   "cell_type": "markdown",
   "metadata": {},
   "source": [
    "## Make a new site post"
   ]
  },
  {
   "cell_type": "code",
   "execution_count": 1,
   "metadata": {},
   "outputs": [
    {
     "ename": "TypeError",
     "evalue": "make_post() missing 2 required positional arguments: 'title' and 'content'",
     "output_type": "error",
     "traceback": [
      "\u001b[0;31m---------------------------------------------------------------------------\u001b[0m",
      "\u001b[0;31mTypeError\u001b[0m                                 Traceback (most recent call last)",
      "Cell \u001b[0;32mIn[1], line 3\u001b[0m\n\u001b[1;32m      1\u001b[0m \u001b[39mfrom\u001b[39;00m \u001b[39msite_utils\u001b[39;00m \u001b[39mimport\u001b[39;00m make_post\n\u001b[0;32m----> 3\u001b[0m make_post()\n",
      "\u001b[0;31mTypeError\u001b[0m: make_post() missing 2 required positional arguments: 'title' and 'content'"
     ]
    }
   ],
   "source": [
    "from site_utils import make_post\n",
    "\n",
    "title = \"Title Goes Here\"\n",
    "\n",
    "message = \"Message Goes Here\"\n",
    "\n",
    "make_post(title, message)"
   ]
  }
 ],
 "metadata": {
  "kernelspec": {
   "display_name": "Python 3",
   "language": "python",
   "name": "python3"
  },
  "language_info": {
   "codemirror_mode": {
    "name": "ipython",
    "version": 3
   },
   "file_extension": ".py",
   "mimetype": "text/x-python",
   "name": "python",
   "nbconvert_exporter": "python",
   "pygments_lexer": "ipython3",
   "version": "3.11.2"
  },
  "orig_nbformat": 4
 },
 "nbformat": 4,
 "nbformat_minor": 2
}
